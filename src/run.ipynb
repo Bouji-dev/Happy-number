{
 "cells": [
  {
   "cell_type": "code",
   "execution_count": 32,
   "metadata": {},
   "outputs": [],
   "source": [
    "\n",
    "def is_happy(n):\n",
    "    seen_num = set()\n",
    "    while (n != 1) and (n not in seen_num):\n",
    "        seen_num.add(n)\n",
    "        n = sum([int(i) ** 2 for i in str(n)])\n",
    "    return n == 1\n",
    "        \n"
   ]
  }
 ],
 "metadata": {
  "kernelspec": {
   "display_name": "tmp",
   "language": "python",
   "name": "python3"
  },
  "language_info": {
   "codemirror_mode": {
    "name": "ipython",
    "version": 3
   },
   "file_extension": ".py",
   "mimetype": "text/x-python",
   "name": "python",
   "nbconvert_exporter": "python",
   "pygments_lexer": "ipython3",
   "version": "3.10.15"
  }
 },
 "nbformat": 4,
 "nbformat_minor": 2
}
